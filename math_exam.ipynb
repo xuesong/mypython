{
 "cells": [
  {
   "cell_type": "code",
   "execution_count": 2,
   "metadata": {},
   "outputs": [
    {
     "name": "stdout",
     "output_type": "stream",
     "text": [
      "164 + 648 = 812\n",
      "bingo\n",
      "15 x 5 = 75\n",
      "bingo\n"
     ]
    }
   ],
   "source": [
    "import numpy as np\n",
    "\n",
    "for i in range(1,3):\n",
    "\ttt = np.random.randint(0,4)\n",
    "\tif tt == 0:\n",
    "\t\tx = np.random.randint(0,997) + 3\n",
    "\t\ty = np.random.randint(0,997) + 3\n",
    "\t\tz = x+y\n",
    "\t\tstrp = repr(x) + ' + ' + repr(y) + ' = '\n",
    "\n",
    "\telif tt == 1:\n",
    "\t\tx = np.random.randint(0,1001)\n",
    "\t\tz = np.random.randint(0,1001)\n",
    "\t\ty = x+z\n",
    "\t\tstrp= repr(y) + ' - ' + repr(x) + ' = '\n",
    "\t\n",
    "\telif tt == 2:\n",
    "\t\tx = np.random.randint(0,9) + 11\n",
    "\t\ty = np.random.randint(0,18) + 2\n",
    "\t\tz = x*y\n",
    "\t\tstrp = repr(x) + ' x ' + repr(y) + ' = '\n",
    "\n",
    "\telif tt == 3:\n",
    "\t\tx = np.random.randint(0,997) + 3\n",
    "\t\ty = np.random.randint(0,997) + 3\n",
    "\t\tz = x+y\n",
    "\t\tstrp=  repr(x) + ' + ' + repr(y) + ' = '\n",
    "\n",
    "\n",
    "\tansw = int(input(strp))\n",
    "\n",
    "\tif answ == z:\n",
    "\t\tprint('bingo')\n",
    "\telse:\n",
    "\t\tprint('answer is %d' %(z))\n"
   ]
  },
  {
   "cell_type": "code",
   "execution_count": null,
   "metadata": {},
   "outputs": [],
   "source": []
  }
 ],
 "metadata": {
  "kernelspec": {
   "display_name": "Python 2",
   "language": "python",
   "name": "python2"
  },
  "language_info": {
   "codemirror_mode": {
    "name": "ipython",
    "version": 2
   },
   "file_extension": ".py",
   "mimetype": "text/x-python",
   "name": "python",
   "nbconvert_exporter": "python",
   "pygments_lexer": "ipython2",
   "version": "2.7.13"
  }
 },
 "nbformat": 4,
 "nbformat_minor": 2
}
